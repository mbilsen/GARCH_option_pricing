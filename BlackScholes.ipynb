{
 "cells": [
  {
   "cell_type": "code",
   "execution_count": 1,
   "id": "eba18597-22a0-487b-b7b1-14bbb684fef4",
   "metadata": {},
   "outputs": [],
   "source": [
    "import pandas as pd\n",
    "from scipy.stats import norm\n",
    "from datetime import date\n",
    "import math\n",
    "import numpy as np"
   ]
  },
  {
   "cell_type": "code",
   "execution_count": 2,
   "id": "168204d6-395a-431c-90be-c714903f64c7",
   "metadata": {},
   "outputs": [],
   "source": [
    "rahbek_data = pd.read_csv(\"Daten/Option_prices_2018_1.csv\", sep=';')"
   ]
  },
  {
   "cell_type": "code",
   "execution_count": 3,
   "id": "8f4609a8-bba0-4620-803e-d6e4fb674988",
   "metadata": {},
   "outputs": [
    {
     "data": {
      "text/html": [
       "<div>\n",
       "<style scoped>\n",
       "    .dataframe tbody tr th:only-of-type {\n",
       "        vertical-align: middle;\n",
       "    }\n",
       "\n",
       "    .dataframe tbody tr th {\n",
       "        vertical-align: top;\n",
       "    }\n",
       "\n",
       "    .dataframe thead th {\n",
       "        text-align: right;\n",
       "    }\n",
       "</style>\n",
       "<table border=\"1\" class=\"dataframe\">\n",
       "  <thead>\n",
       "    <tr style=\"text-align: right;\">\n",
       "      <th></th>\n",
       "      <th>Quote date</th>\n",
       "      <th>Expiration date</th>\n",
       "      <th>C</th>\n",
       "      <th>K</th>\n",
       "      <th>S</th>\n",
       "      <th>r</th>\n",
       "      <th>T</th>\n",
       "      <th>Days to Mature</th>\n",
       "    </tr>\n",
       "  </thead>\n",
       "  <tbody>\n",
       "    <tr>\n",
       "      <th>0</th>\n",
       "      <td>01.03.2016</td>\n",
       "      <td>18.03.2016</td>\n",
       "      <td>328.30</td>\n",
       "      <td>1650</td>\n",
       "      <td>1978.35</td>\n",
       "      <td>0.0033</td>\n",
       "      <td>0.046600</td>\n",
       "      <td>17</td>\n",
       "    </tr>\n",
       "    <tr>\n",
       "      <th>1</th>\n",
       "      <td>01.03.2016</td>\n",
       "      <td>18.03.2016</td>\n",
       "      <td>130.90</td>\n",
       "      <td>1850</td>\n",
       "      <td>1978.35</td>\n",
       "      <td>0.0033</td>\n",
       "      <td>0.046600</td>\n",
       "      <td>17</td>\n",
       "    </tr>\n",
       "    <tr>\n",
       "      <th>2</th>\n",
       "      <td>01.03.2016</td>\n",
       "      <td>18.03.2016</td>\n",
       "      <td>112.20</td>\n",
       "      <td>1870</td>\n",
       "      <td>1978.35</td>\n",
       "      <td>0.0033</td>\n",
       "      <td>0.046600</td>\n",
       "      <td>17</td>\n",
       "    </tr>\n",
       "    <tr>\n",
       "      <th>3</th>\n",
       "      <td>01.03.2016</td>\n",
       "      <td>18.03.2016</td>\n",
       "      <td>85.50</td>\n",
       "      <td>1900</td>\n",
       "      <td>1978.35</td>\n",
       "      <td>0.0033</td>\n",
       "      <td>0.046600</td>\n",
       "      <td>17</td>\n",
       "    </tr>\n",
       "    <tr>\n",
       "      <th>4</th>\n",
       "      <td>01.03.2016</td>\n",
       "      <td>18.03.2016</td>\n",
       "      <td>68.40</td>\n",
       "      <td>1920</td>\n",
       "      <td>1978.35</td>\n",
       "      <td>0.0033</td>\n",
       "      <td>0.046600</td>\n",
       "      <td>17</td>\n",
       "    </tr>\n",
       "    <tr>\n",
       "      <th>...</th>\n",
       "      <td>...</td>\n",
       "      <td>...</td>\n",
       "      <td>...</td>\n",
       "      <td>...</td>\n",
       "      <td>...</td>\n",
       "      <td>...</td>\n",
       "      <td>...</td>\n",
       "      <td>...</td>\n",
       "    </tr>\n",
       "    <tr>\n",
       "      <th>26432</th>\n",
       "      <td>01.03.2018</td>\n",
       "      <td>20.12.2019</td>\n",
       "      <td>171.55</td>\n",
       "      <td>2850</td>\n",
       "      <td>2677.67</td>\n",
       "      <td>0.0160</td>\n",
       "      <td>1.805479</td>\n",
       "      <td>659</td>\n",
       "    </tr>\n",
       "    <tr>\n",
       "      <th>26433</th>\n",
       "      <td>01.03.2018</td>\n",
       "      <td>20.12.2019</td>\n",
       "      <td>148.35</td>\n",
       "      <td>2900</td>\n",
       "      <td>2677.67</td>\n",
       "      <td>0.0160</td>\n",
       "      <td>1.805479</td>\n",
       "      <td>659</td>\n",
       "    </tr>\n",
       "    <tr>\n",
       "      <th>26434</th>\n",
       "      <td>01.03.2018</td>\n",
       "      <td>20.12.2019</td>\n",
       "      <td>127.00</td>\n",
       "      <td>2950</td>\n",
       "      <td>2677.67</td>\n",
       "      <td>0.0160</td>\n",
       "      <td>1.805479</td>\n",
       "      <td>659</td>\n",
       "    </tr>\n",
       "    <tr>\n",
       "      <th>26435</th>\n",
       "      <td>01.03.2018</td>\n",
       "      <td>18.12.2020</td>\n",
       "      <td>332.60</td>\n",
       "      <td>2700</td>\n",
       "      <td>2677.67</td>\n",
       "      <td>0.0160</td>\n",
       "      <td>2.802740</td>\n",
       "      <td>1023</td>\n",
       "    </tr>\n",
       "    <tr>\n",
       "      <th>26436</th>\n",
       "      <td>01.03.2018</td>\n",
       "      <td>18.12.2020</td>\n",
       "      <td>319.10</td>\n",
       "      <td>2725</td>\n",
       "      <td>2677.67</td>\n",
       "      <td>0.0160</td>\n",
       "      <td>2.802740</td>\n",
       "      <td>1023</td>\n",
       "    </tr>\n",
       "  </tbody>\n",
       "</table>\n",
       "<p>26437 rows × 8 columns</p>\n",
       "</div>"
      ],
      "text/plain": [
       "       Quote date Expiration date       C     K        S       r         T  \\\n",
       "0      01.03.2016      18.03.2016  328.30  1650  1978.35  0.0033  0.046600   \n",
       "1      01.03.2016      18.03.2016  130.90  1850  1978.35  0.0033  0.046600   \n",
       "2      01.03.2016      18.03.2016  112.20  1870  1978.35  0.0033  0.046600   \n",
       "3      01.03.2016      18.03.2016   85.50  1900  1978.35  0.0033  0.046600   \n",
       "4      01.03.2016      18.03.2016   68.40  1920  1978.35  0.0033  0.046600   \n",
       "...           ...             ...     ...   ...      ...     ...       ...   \n",
       "26432  01.03.2018      20.12.2019  171.55  2850  2677.67  0.0160  1.805479   \n",
       "26433  01.03.2018      20.12.2019  148.35  2900  2677.67  0.0160  1.805479   \n",
       "26434  01.03.2018      20.12.2019  127.00  2950  2677.67  0.0160  1.805479   \n",
       "26435  01.03.2018      18.12.2020  332.60  2700  2677.67  0.0160  2.802740   \n",
       "26436  01.03.2018      18.12.2020  319.10  2725  2677.67  0.0160  2.802740   \n",
       "\n",
       "       Days to Mature  \n",
       "0                  17  \n",
       "1                  17  \n",
       "2                  17  \n",
       "3                  17  \n",
       "4                  17  \n",
       "...               ...  \n",
       "26432             659  \n",
       "26433             659  \n",
       "26434             659  \n",
       "26435            1023  \n",
       "26436            1023  \n",
       "\n",
       "[26437 rows x 8 columns]"
      ]
     },
     "execution_count": 3,
     "metadata": {},
     "output_type": "execute_result"
    }
   ],
   "source": [
    "rahbek_data"
   ]
  },
  {
   "cell_type": "code",
   "execution_count": 4,
   "id": "57f2cede-3d88-4383-952c-65ec53696756",
   "metadata": {},
   "outputs": [],
   "source": [
    "def d1(S, K, sigma, t, r):\n",
    "    nominator = np.log(S/K) + (r + (sigma**2)/2)*t\n",
    "    denominator = sigma* t**0.5\n",
    "    return nominator/denominator\n",
    "def d2(S, K, sigma, t, r):\n",
    "    return d1(S, K, sigma, t, r) - sigma*t**0.5\n",
    "def BS(S, K, sigma, t, r):\n",
    "    return S * norm.cdf(d1(S, K, sigma, t, r)) - K * math.e**(r*t) * norm.cdf(d2(S, K, sigma, t, r))"
   ]
  },
  {
   "cell_type": "code",
   "execution_count": 5,
   "id": "366a396f-b2f4-4f4a-ac71-b71c9d8b1020",
   "metadata": {},
   "outputs": [],
   "source": [
    "my_sigma = 0.0061"
   ]
  },
  {
   "cell_type": "code",
   "execution_count": 6,
   "id": "3cdda57f-195d-443a-b885-ab7323b06347",
   "metadata": {},
   "outputs": [],
   "source": [
    "npdata = rahbek_data.iloc[:,3:-1].values"
   ]
  },
  {
   "cell_type": "code",
   "execution_count": 7,
   "id": "cff43727-5b21-4822-86c7-d3044cabdc8e",
   "metadata": {},
   "outputs": [],
   "source": [
    "BS_list = []\n",
    "for i in range(npdata.shape[0]):\n",
    "    BS_list.append( BS(S = rahbek_data[\"S\"][i], K = rahbek_data[\"K\"][i], sigma = my_sigma, t = rahbek_data[\"T\"][i], r = rahbek_data[\"r\"][i]) )"
   ]
  },
  {
   "cell_type": "code",
   "execution_count": 8,
   "id": "b30ffb77-bebd-4389-91b4-529fa927b474",
   "metadata": {},
   "outputs": [],
   "source": [
    "#BS_list"
   ]
  },
  {
   "cell_type": "code",
   "execution_count": 9,
   "id": "913f87a4-8e29-4f18-8781-7cf4d62c7709",
   "metadata": {},
   "outputs": [
    {
     "data": {
      "text/plain": [
       "328.0962434891619"
      ]
     },
     "execution_count": 9,
     "metadata": {},
     "output_type": "execute_result"
    }
   ],
   "source": [
    "BS(S = rahbek_data[\"S\"][0], K = rahbek_data[\"K\"][0], sigma = my_sigma, t = rahbek_data[\"T\"][0], r = rahbek_data[\"r\"][0])"
   ]
  },
  {
   "cell_type": "code",
   "execution_count": 17,
   "id": "695182ad-4daf-48d6-bc6d-6b093bfeb662",
   "metadata": {},
   "outputs": [
    {
     "data": {
      "text/plain": [
       "47.30039554452992"
      ]
     },
     "execution_count": 17,
     "metadata": {},
     "output_type": "execute_result"
    }
   ],
   "source": [
    "BS(S = 1990.2, K = 1950, sigma = 0.0061, t = 21, r = 0.003/251)\n",
    "#0.000145\n",
    "#0.0061"
   ]
  },
  {
   "cell_type": "code",
   "execution_count": 10,
   "id": "d684bb67-49cf-48c9-b994-abb75b861079",
   "metadata": {},
   "outputs": [
    {
     "data": {
      "text/plain": [
       "137.94143267983068"
      ]
     },
     "execution_count": 10,
     "metadata": {},
     "output_type": "execute_result"
    }
   ],
   "source": [
    "d1(S = rahbek_data[\"S\"][0], K = rahbek_data[\"K\"][0], sigma = my_sigma, t = rahbek_data[\"T\"][0], r = rahbek_data[\"r\"][0])"
   ]
  },
  {
   "cell_type": "code",
   "execution_count": 11,
   "id": "a84407dd-b875-4748-899c-3fcf2e66ca07",
   "metadata": {},
   "outputs": [
    {
     "data": {
      "text/plain": [
       "137.94011587080885"
      ]
     },
     "execution_count": 11,
     "metadata": {},
     "output_type": "execute_result"
    }
   ],
   "source": [
    "d2(S = rahbek_data[\"S\"][0], K = rahbek_data[\"K\"][0], sigma = my_sigma, t = rahbek_data[\"T\"][0], r = rahbek_data[\"r\"][0])"
   ]
  },
  {
   "cell_type": "code",
   "execution_count": 12,
   "id": "8c7bf2ed-e31e-4a57-8322-a0633ac26868",
   "metadata": {},
   "outputs": [],
   "source": [
    "S = rahbek_data[\"S\"][0]\n",
    "K = rahbek_data[\"S\"][0]"
   ]
  },
  {
   "cell_type": "code",
   "execution_count": 13,
   "id": "214881d5-d46d-4889-a76e-469c95c6738d",
   "metadata": {},
   "outputs": [
    {
     "ename": "NameError",
     "evalue": "name 'sigma' is not defined",
     "output_type": "error",
     "traceback": [
      "\u001b[1;31m---------------------------------------------------------------------------\u001b[0m",
      "\u001b[1;31mNameError\u001b[0m                                 Traceback (most recent call last)",
      "\u001b[1;32m~\\AppData\\Local\\Temp/ipykernel_4260/3416950274.py\u001b[0m in \u001b[0;36m<module>\u001b[1;34m\u001b[0m\n\u001b[1;32m----> 1\u001b[1;33m \u001b[0mS\u001b[0m \u001b[1;33m*\u001b[0m \u001b[0mnorm\u001b[0m\u001b[1;33m.\u001b[0m\u001b[0mpdf\u001b[0m\u001b[1;33m(\u001b[0m\u001b[0md1\u001b[0m\u001b[1;33m(\u001b[0m\u001b[0mS\u001b[0m\u001b[1;33m,\u001b[0m \u001b[0mK\u001b[0m\u001b[1;33m,\u001b[0m \u001b[0msigma\u001b[0m\u001b[1;33m,\u001b[0m \u001b[0mt\u001b[0m\u001b[1;33m,\u001b[0m \u001b[0mr\u001b[0m\u001b[1;33m)\u001b[0m\u001b[1;33m)\u001b[0m \u001b[1;33m-\u001b[0m \u001b[0mK\u001b[0m \u001b[1;33m*\u001b[0m \u001b[0mmath\u001b[0m\u001b[1;33m.\u001b[0m\u001b[0me\u001b[0m\u001b[1;33m**\u001b[0m\u001b[1;33m(\u001b[0m\u001b[0mr\u001b[0m\u001b[1;33m*\u001b[0m\u001b[0mt\u001b[0m\u001b[1;33m)\u001b[0m \u001b[1;33m*\u001b[0m \u001b[0mnorm\u001b[0m\u001b[1;33m.\u001b[0m\u001b[0mpdf\u001b[0m\u001b[1;33m(\u001b[0m\u001b[0md2\u001b[0m\u001b[1;33m(\u001b[0m\u001b[0mS\u001b[0m\u001b[1;33m,\u001b[0m \u001b[0mK\u001b[0m\u001b[1;33m,\u001b[0m \u001b[0msigma\u001b[0m\u001b[1;33m,\u001b[0m \u001b[0mt\u001b[0m\u001b[1;33m,\u001b[0m \u001b[0mr\u001b[0m\u001b[1;33m)\u001b[0m\u001b[1;33m)\u001b[0m\u001b[1;33m\u001b[0m\u001b[1;33m\u001b[0m\u001b[0m\n\u001b[0m",
      "\u001b[1;31mNameError\u001b[0m: name 'sigma' is not defined"
     ]
    }
   ],
   "source": [
    "S * norm.pdf(d1(S, K, sigma, t, r)) - K * math.e**(r*t) * norm.pdf(d2(S, K, sigma, t, r))"
   ]
  },
  {
   "cell_type": "code",
   "execution_count": null,
   "id": "5561eb17-20b4-4632-a461-a28eb26f19ef",
   "metadata": {},
   "outputs": [],
   "source": []
  },
  {
   "cell_type": "code",
   "execution_count": null,
   "id": "0260fbff-bde3-4904-82b7-13bc2abfd3b1",
   "metadata": {},
   "outputs": [],
   "source": []
  }
 ],
 "metadata": {
  "kernelspec": {
   "display_name": "Python 3 (ipykernel)",
   "language": "python",
   "name": "python3"
  },
  "language_info": {
   "codemirror_mode": {
    "name": "ipython",
    "version": 3
   },
   "file_extension": ".py",
   "mimetype": "text/x-python",
   "name": "python",
   "nbconvert_exporter": "python",
   "pygments_lexer": "ipython3",
   "version": "3.8.12"
  }
 },
 "nbformat": 4,
 "nbformat_minor": 5
}
