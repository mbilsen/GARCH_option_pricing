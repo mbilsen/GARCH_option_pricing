{
 "cells": [
  {
   "cell_type": "code",
   "execution_count": 2,
   "id": "6e999642-9f94-4e55-b952-844d39e0f89f",
   "metadata": {},
   "outputs": [],
   "source": [
    "def sim_option_price_sdf(series, S_t, K, horizon, par, draws, r, model):\n",
    "    if model == \"GARCH\":\n",
    "        omega = par[0]\n",
    "        alpha = par[1]\n",
    "        beta = par[2]\n",
    "    S_T = np.zeros(draws)\n",
    "    temp = np.zeros(draws)\n",
    "        \n",
    "    sigma2 = np.zeros(len(series))\n",
    "    sigma2[0] = np.var(series)\n",
    "        \n",
    "    for i in range(len(series)):\n",
    "        sigma2[i] = omega + alpha*series[i-1]**2 + beta*sigma2[0][i-1]\n",
    "        \n",
    "    for i in range(len(draws)):\n",
    "        ret = np.zeros(horizon)\n",
    "        theta = np.zeros(horizon)\n",
    "        sdf = np.zeros(horizon)\n",
    "            \n",
    "        s = sigma2[-1]\n",
    "        s =  omega + alpha*series[-1]**2 + beta*s\n",
    "            \n",
    "        for j in range(len(horizon)):\n",
    "            theta[j] = r/s - 1/2\n",
    "            ret[j] = (s)**0.5 * np.random.normal(0,1,1)[0]\n",
    "            sdf[j] = np.exp(theta[j]*ret[j])/np.exp( (1+theta[j])**2 * s/2)\n",
    "            s = omega + alpha*ret[j]**2 + beta*s\n",
    "        \n",
    "        rsum = np.sum(ret)\n",
    "        S_T[i] = S_t * np.exp(rsum)\n",
    "        prodsdf = np.product(sdf)\n",
    "        temp[i] = prodsdf * (S_T[i]-K)*(S_T[i]>K)\n",
    "    return np.mean(temp)"
   ]
  },
  {
   "cell_type": "code",
   "execution_count": null,
   "id": "d7ff88a5-9ef5-48b9-a6cf-b6ab157ae07c",
   "metadata": {},
   "outputs": [],
   "source": []
  }
 ],
 "metadata": {
  "kernelspec": {
   "display_name": "Python 3 (ipykernel)",
   "language": "python",
   "name": "python3"
  },
  "language_info": {
   "codemirror_mode": {
    "name": "ipython",
    "version": 3
   },
   "file_extension": ".py",
   "mimetype": "text/x-python",
   "name": "python",
   "nbconvert_exporter": "python",
   "pygments_lexer": "ipython3",
   "version": "3.8.12"
  }
 },
 "nbformat": 4,
 "nbformat_minor": 5
}
