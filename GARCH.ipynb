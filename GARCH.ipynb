{
 "cells": [
  {
   "cell_type": "code",
   "execution_count": 12,
   "id": "91af683a-14d6-45b2-be78-8f93724eb6e0",
   "metadata": {},
   "outputs": [],
   "source": [
    "import pandas as pd\n",
    "from scipy.stats import norm\n",
    "from datetime import date\n",
    "import math\n",
    "import numpy as np\n",
    "import matplotlib.pyplot as plt"
   ]
  },
  {
   "cell_type": "code",
   "execution_count": 13,
   "id": "e3584ca0-aaf2-4179-8ee3-4f994a9453ed",
   "metadata": {},
   "outputs": [],
   "source": [
    "from arch import arch_model"
   ]
  },
  {
   "cell_type": "code",
   "execution_count": 14,
   "id": "d43011f7-69d3-4112-867e-222aeb767836",
   "metadata": {},
   "outputs": [],
   "source": [
    "import yfinance as yf"
   ]
  },
  {
   "cell_type": "code",
   "execution_count": 61,
   "id": "af45c962-1bd1-4943-b8be-909699d8c660",
   "metadata": {},
   "outputs": [
    {
     "data": {
      "text/plain": [
       "'data_option = yf.download(\"^GSPC\", start=\"2016-03-01\", end=\"2018-03-02\")\\ndata_option[\\'pct_change\\'] = data_option.Open.pct_change()\\ndata_option[\\'log_ret\\'] = np.log(data_option.Open) - np.log(data_option.Open.shift(1))'"
      ]
     },
     "execution_count": 61,
     "metadata": {},
     "output_type": "execute_result"
    }
   ],
   "source": [
    "\"\"\"data_option = yf.download(\"^GSPC\", start=\"2016-03-01\", end=\"2018-03-02\")\n",
    "data_option['pct_change'] = data_option.Open.pct_change()\n",
    "data_option['log_ret'] = np.log(data_option.Open) - np.log(data_option.Open.shift(1))\"\"\""
   ]
  },
  {
   "cell_type": "code",
   "execution_count": 16,
   "id": "1d39abfc-f21e-4285-9e85-440310f7924c",
   "metadata": {},
   "outputs": [],
   "source": [
    "#data"
   ]
  },
  {
   "cell_type": "code",
   "execution_count": 17,
   "id": "c034c1f3-6a30-46a7-9898-14d8146be702",
   "metadata": {},
   "outputs": [
    {
     "name": "stdout",
     "output_type": "stream",
     "text": [
      "[*********************100%***********************]  1 of 1 completed\n"
     ]
    }
   ],
   "source": [
    "data = yf.download(\"^GSPC\", start=\"2005-03-01\", end=\"2016-03-01\")"
   ]
  },
  {
   "cell_type": "code",
   "execution_count": 18,
   "id": "6ccfe174-c53a-4c7e-adde-cfa8f447b11a",
   "metadata": {},
   "outputs": [],
   "source": [
    "data['pct_change'] = data.Open.pct_change()"
   ]
  },
  {
   "cell_type": "code",
   "execution_count": 19,
   "id": "3cffcc58-ae7f-40a8-b681-c781f97c3a90",
   "metadata": {},
   "outputs": [],
   "source": [
    "data['log_ret'] = np.log(data.Open) - np.log(data.Open.shift(1))"
   ]
  },
  {
   "cell_type": "code",
   "execution_count": 20,
   "id": "d6da003c-fa14-4ebe-86a9-d996603ccc82",
   "metadata": {},
   "outputs": [
    {
     "data": {
      "text/plain": [
       "0.012062676410980393"
      ]
     },
     "execution_count": 20,
     "metadata": {},
     "output_type": "execute_result"
    }
   ],
   "source": [
    "data[\"log_ret\"].std()"
   ]
  },
  {
   "cell_type": "code",
   "execution_count": 21,
   "id": "653446de-64b4-4ffc-b16c-36fe54378c21",
   "metadata": {},
   "outputs": [],
   "source": [
    "data['log_ret * 100'] = data['log_ret'] * 100"
   ]
  },
  {
   "cell_type": "code",
   "execution_count": 22,
   "id": "b577915d-4f90-4212-9cca-f0fafa790b70",
   "metadata": {},
   "outputs": [
    {
     "data": {
      "text/plain": [
       "[<matplotlib.lines.Line2D at 0x2cdbdddcfa0>]"
      ]
     },
     "execution_count": 22,
     "metadata": {},
     "output_type": "execute_result"
    },
    {
     "data": {
      "image/png": "[encoded data removed]",
      "text/plain": [
       "<Figure size 432x288 with 1 Axes>"
      ]
     },
     "metadata": {
      "needs_background": "light"
     },
     "output_type": "display_data"
    }
   ],
   "source": [
    "plt.plot(data['log_ret * 100'])"
   ]
  },
  {
   "cell_type": "code",
   "execution_count": 23,
   "id": "f8d67e32-13c2-4148-91a6-c7696841f0b6",
   "metadata": {},
   "outputs": [],
   "source": [
    "am = arch_model(data['log_ret * 100'][1:,], vol='Garch', p=1, o=0, q=1, dist='Normal', mean= \"Zero\")"
   ]
  },
  {
   "cell_type": "code",
   "execution_count": 24,
   "id": "5dfa653a-66fb-4d8a-b4de-8b2fcabdfb44",
   "metadata": {},
   "outputs": [],
   "source": [
    "#help(arch_model)"
   ]
  },
  {
   "cell_type": "code",
   "execution_count": 25,
   "id": "051ae4ef-c23b-4b58-8a2b-8229914c3aac",
   "metadata": {},
   "outputs": [
    {
     "name": "stdout",
     "output_type": "stream",
     "text": [
      "Zero Mean(constant: no, no. of exog: 0, volatility: GARCH(p: 1, q: 1), distribution: Normal distribution)\n",
      "Iteration:      1,   Func. Count:      5,   Neg. LLF: 1288419213.2814631\n",
      "Iteration:      2,   Func. Count:     11,   Neg. LLF: 5709.351318292893\n",
      "Iteration:      3,   Func. Count:     17,   Neg. LLF: 3745.079994533143\n",
      "Iteration:      4,   Func. Count:     22,   Neg. LLF: 3730.406142939734\n",
      "Iteration:      5,   Func. Count:     27,   Neg. LLF: 3696.8041262277193\n",
      "Iteration:      6,   Func. Count:     32,   Neg. LLF: 3696.128791908269\n",
      "Iteration:      7,   Func. Count:     37,   Neg. LLF: 3696.0254965834047\n",
      "Iteration:      8,   Func. Count:     41,   Neg. LLF: 3696.0254453515745\n",
      "Iteration:      9,   Func. Count:     44,   Neg. LLF: 3696.0254453506377\n",
      "Optimization terminated successfully    (Exit mode 0)\n",
      "            Current function value: 3696.0254453515745\n",
      "            Iterations: 9\n",
      "            Function evaluations: 44\n",
      "            Gradient evaluations: 9\n",
      "                       Zero Mean - GARCH Model Results                        \n",
      "==============================================================================\n",
      "Dep. Variable:          log_ret * 100   R-squared:                       0.000\n",
      "Mean Model:                 Zero Mean   Adj. R-squared:                  0.000\n",
      "Vol Model:                      GARCH   Log-Likelihood:               -3696.03\n",
      "Distribution:                  Normal   AIC:                           7398.05\n",
      "Method:            Maximum Likelihood   BIC:                           7415.83\n",
      "                                        No. Observations:                 2769\n",
      "Date:                Fri, Apr 08 2022   Df Residuals:                     2769\n",
      "Time:                        13:28:35   Df Model:                            0\n",
      "                              Volatility Model                              \n",
      "============================================================================\n",
      "                 coef    std err          t      P>|t|      95.0% Conf. Int.\n",
      "----------------------------------------------------------------------------\n",
      "omega          0.0198  5.557e-03      3.572  3.546e-04 [8.957e-03,3.074e-02]\n",
      "alpha[1]       0.1003  1.450e-02      6.917  4.606e-12   [7.186e-02,  0.129]\n",
      "beta[1]        0.8816  1.564e-02     56.371      0.000     [  0.851,  0.912]\n",
      "============================================================================\n",
      "\n",
      "Covariance estimator: robust\n"
     ]
    }
   ],
   "source": [
    "print(am)\n",
    "res = am.fit()\n",
    "print(res.summary())"
   ]
  },
  {
   "cell_type": "code",
   "execution_count": 26,
   "id": "22005fc2-8657-41a2-b7ed-18a4d8adebf1",
   "metadata": {},
   "outputs": [
    {
     "data": {
      "text/plain": [
       "omega       0.019849\n",
       "alpha[1]    0.100266\n",
       "beta[1]     0.881597\n",
       "Name: params, dtype: float64"
      ]
     },
     "execution_count": 26,
     "metadata": {},
     "output_type": "execute_result"
    }
   ],
   "source": [
    "res.params"
   ]
  },
  {
   "cell_type": "code",
   "execution_count": 27,
   "id": "77356cf1-efdb-4283-a6a9-30e78bfeb7eb",
   "metadata": {},
   "outputs": [],
   "source": [
    "data = data.dropna()"
   ]
  },
  {
   "cell_type": "code",
   "execution_count": 28,
   "id": "466ca163-672d-4ad1-bf8b-d1619b6d0519",
   "metadata": {},
   "outputs": [
    {
     "data": {
      "text/html": [
       "<div>\n",
       "<style scoped>\n",
       "    .dataframe tbody tr th:only-of-type {\n",
       "        vertical-align: middle;\n",
       "    }\n",
       "\n",
       "    .dataframe tbody tr th {\n",
       "        vertical-align: top;\n",
       "    }\n",
       "\n",
       "    .dataframe thead th {\n",
       "        text-align: right;\n",
       "    }\n",
       "</style>\n",
       "<table border=\"1\" class=\"dataframe\">\n",
       "  <thead>\n",
       "    <tr style=\"text-align: right;\">\n",
       "      <th></th>\n",
       "      <th>Open</th>\n",
       "      <th>High</th>\n",
       "      <th>Low</th>\n",
       "      <th>Close</th>\n",
       "      <th>Adj Close</th>\n",
       "      <th>Volume</th>\n",
       "      <th>pct_change</th>\n",
       "      <th>log_ret</th>\n",
       "      <th>log_ret * 100</th>\n",
       "    </tr>\n",
       "    <tr>\n",
       "      <th>Date</th>\n",
       "      <th></th>\n",
       "      <th></th>\n",
       "      <th></th>\n",
       "      <th></th>\n",
       "      <th></th>\n",
       "      <th></th>\n",
       "      <th></th>\n",
       "      <th></th>\n",
       "      <th></th>\n",
       "    </tr>\n",
       "  </thead>\n",
       "  <tbody>\n",
       "    <tr>\n",
       "      <th>2005-03-01</th>\n",
       "      <td>1203.599976</td>\n",
       "      <td>1212.250000</td>\n",
       "      <td>1203.599976</td>\n",
       "      <td>1210.410034</td>\n",
       "      <td>1210.410034</td>\n",
       "      <td>1708060000</td>\n",
       "      <td>-0.006414</td>\n",
       "      <td>-0.006435</td>\n",
       "      <td>-0.643490</td>\n",
       "    </tr>\n",
       "    <tr>\n",
       "      <th>2005-03-02</th>\n",
       "      <td>1210.410034</td>\n",
       "      <td>1215.790039</td>\n",
       "      <td>1204.219971</td>\n",
       "      <td>1210.079956</td>\n",
       "      <td>1210.079956</td>\n",
       "      <td>1568540000</td>\n",
       "      <td>0.005658</td>\n",
       "      <td>0.005642</td>\n",
       "      <td>0.564213</td>\n",
       "    </tr>\n",
       "    <tr>\n",
       "      <th>2005-03-03</th>\n",
       "      <td>1210.079956</td>\n",
       "      <td>1215.719971</td>\n",
       "      <td>1204.449951</td>\n",
       "      <td>1210.469971</td>\n",
       "      <td>1210.469971</td>\n",
       "      <td>1616240000</td>\n",
       "      <td>-0.000273</td>\n",
       "      <td>-0.000273</td>\n",
       "      <td>-0.027274</td>\n",
       "    </tr>\n",
       "    <tr>\n",
       "      <th>2005-03-04</th>\n",
       "      <td>1210.469971</td>\n",
       "      <td>1224.760010</td>\n",
       "      <td>1210.469971</td>\n",
       "      <td>1222.119995</td>\n",
       "      <td>1222.119995</td>\n",
       "      <td>1636820000</td>\n",
       "      <td>0.000322</td>\n",
       "      <td>0.000322</td>\n",
       "      <td>0.032225</td>\n",
       "    </tr>\n",
       "    <tr>\n",
       "      <th>2005-03-07</th>\n",
       "      <td>1222.119995</td>\n",
       "      <td>1229.109985</td>\n",
       "      <td>1222.119995</td>\n",
       "      <td>1225.310059</td>\n",
       "      <td>1225.310059</td>\n",
       "      <td>1488830000</td>\n",
       "      <td>0.009624</td>\n",
       "      <td>0.009578</td>\n",
       "      <td>0.957836</td>\n",
       "    </tr>\n",
       "    <tr>\n",
       "      <th>...</th>\n",
       "      <td>...</td>\n",
       "      <td>...</td>\n",
       "      <td>...</td>\n",
       "      <td>...</td>\n",
       "      <td>...</td>\n",
       "      <td>...</td>\n",
       "      <td>...</td>\n",
       "      <td>...</td>\n",
       "      <td>...</td>\n",
       "    </tr>\n",
       "    <tr>\n",
       "      <th>2016-02-23</th>\n",
       "      <td>1942.380005</td>\n",
       "      <td>1942.380005</td>\n",
       "      <td>1919.439941</td>\n",
       "      <td>1921.270020</td>\n",
       "      <td>1921.270020</td>\n",
       "      <td>3890650000</td>\n",
       "      <td>0.009322</td>\n",
       "      <td>0.009279</td>\n",
       "      <td>0.927904</td>\n",
       "    </tr>\n",
       "    <tr>\n",
       "      <th>2016-02-24</th>\n",
       "      <td>1917.560059</td>\n",
       "      <td>1932.079956</td>\n",
       "      <td>1891.000000</td>\n",
       "      <td>1929.800049</td>\n",
       "      <td>1929.800049</td>\n",
       "      <td>4317250000</td>\n",
       "      <td>-0.012778</td>\n",
       "      <td>-0.012860</td>\n",
       "      <td>-1.286045</td>\n",
       "    </tr>\n",
       "    <tr>\n",
       "      <th>2016-02-25</th>\n",
       "      <td>1931.869995</td>\n",
       "      <td>1951.829956</td>\n",
       "      <td>1925.410034</td>\n",
       "      <td>1951.699951</td>\n",
       "      <td>1951.699951</td>\n",
       "      <td>4118210000</td>\n",
       "      <td>0.007463</td>\n",
       "      <td>0.007435</td>\n",
       "      <td>0.743487</td>\n",
       "    </tr>\n",
       "    <tr>\n",
       "      <th>2016-02-26</th>\n",
       "      <td>1954.949951</td>\n",
       "      <td>1962.959961</td>\n",
       "      <td>1945.780029</td>\n",
       "      <td>1948.050049</td>\n",
       "      <td>1948.050049</td>\n",
       "      <td>4348510000</td>\n",
       "      <td>0.011947</td>\n",
       "      <td>0.011876</td>\n",
       "      <td>1.187615</td>\n",
       "    </tr>\n",
       "    <tr>\n",
       "      <th>2016-02-29</th>\n",
       "      <td>1947.130005</td>\n",
       "      <td>1958.270020</td>\n",
       "      <td>1931.810059</td>\n",
       "      <td>1932.229980</td>\n",
       "      <td>1932.229980</td>\n",
       "      <td>4588180000</td>\n",
       "      <td>-0.004000</td>\n",
       "      <td>-0.004008</td>\n",
       "      <td>-0.400810</td>\n",
       "    </tr>\n",
       "  </tbody>\n",
       "</table>\n",
       "<p>2769 rows × 9 columns</p>\n",
       "</div>"
      ],
      "text/plain": [
       "                   Open         High          Low        Close    Adj Close  \\\n",
       "Date                                                                          \n",
       "2005-03-01  1203.599976  1212.250000  1203.599976  1210.410034  1210.410034   \n",
       "2005-03-02  1210.410034  1215.790039  1204.219971  1210.079956  1210.079956   \n",
       "2005-03-03  1210.079956  1215.719971  1204.449951  1210.469971  1210.469971   \n",
       "2005-03-04  1210.469971  1224.760010  1210.469971  1222.119995  1222.119995   \n",
       "2005-03-07  1222.119995  1229.109985  1222.119995  1225.310059  1225.310059   \n",
       "...                 ...          ...          ...          ...          ...   \n",
       "2016-02-23  1942.380005  1942.380005  1919.439941  1921.270020  1921.270020   \n",
       "2016-02-24  1917.560059  1932.079956  1891.000000  1929.800049  1929.800049   \n",
       "2016-02-25  1931.869995  1951.829956  1925.410034  1951.699951  1951.699951   \n",
       "2016-02-26  1954.949951  1962.959961  1945.780029  1948.050049  1948.050049   \n",
       "2016-02-29  1947.130005  1958.270020  1931.810059  1932.229980  1932.229980   \n",
       "\n",
       "                Volume  pct_change   log_ret  log_ret * 100  \n",
       "Date                                                         \n",
       "2005-03-01  1708060000   -0.006414 -0.006435      -0.643490  \n",
       "2005-03-02  1568540000    0.005658  0.005642       0.564213  \n",
       "2005-03-03  1616240000   -0.000273 -0.000273      -0.027274  \n",
       "2005-03-04  1636820000    0.000322  0.000322       0.032225  \n",
       "2005-03-07  1488830000    0.009624  0.009578       0.957836  \n",
       "...                ...         ...       ...            ...  \n",
       "2016-02-23  3890650000    0.009322  0.009279       0.927904  \n",
       "2016-02-24  4317250000   -0.012778 -0.012860      -1.286045  \n",
       "2016-02-25  4118210000    0.007463  0.007435       0.743487  \n",
       "2016-02-26  4348510000    0.011947  0.011876       1.187615  \n",
       "2016-02-29  4588180000   -0.004000 -0.004008      -0.400810  \n",
       "\n",
       "[2769 rows x 9 columns]"
      ]
     },
     "execution_count": 28,
     "metadata": {},
     "output_type": "execute_result"
    }
   ],
   "source": [
    "data"
   ]
  },
  {
   "cell_type": "code",
   "execution_count": 29,
   "id": "fe78580f-9cea-47be-b000-e58cf15c17e6",
   "metadata": {},
   "outputs": [],
   "source": [
    "data.to_csv(\"Daten/sp500.csv\", index=False)"
   ]
  },
  {
   "cell_type": "code",
   "execution_count": 30,
   "id": "6ceaea64-b24d-4e0e-8081-8aa4f27685b3",
   "metadata": {},
   "outputs": [
    {
     "data": {
      "text/plain": [
       "Date\n",
       "2005-03-01   -0.643490\n",
       "2005-03-02    0.564213\n",
       "2005-03-03   -0.027274\n",
       "2005-03-04    0.032225\n",
       "2005-03-07    0.957836\n",
       "                ...   \n",
       "2016-02-23    0.927904\n",
       "2016-02-24   -1.286045\n",
       "2016-02-25    0.743487\n",
       "2016-02-26    1.187615\n",
       "2016-02-29   -0.400810\n",
       "Name: log_ret * 100, Length: 2769, dtype: float64"
      ]
     },
     "execution_count": 30,
     "metadata": {},
     "output_type": "execute_result"
    }
   ],
   "source": [
    "data.iloc[:,8]"
   ]
  },
  {
   "cell_type": "code",
   "execution_count": 31,
   "id": "1f394aef-72ef-432a-b163-e983f4cc1dc3",
   "metadata": {},
   "outputs": [],
   "source": [
    "def rtfunc(sigmat2):\n",
    "    zt = np.random.normal(0,1,1)[0]\n",
    "    return sigmat2**0.5 * zt"
   ]
  },
  {
   "cell_type": "code",
   "execution_count": 32,
   "id": "a6b1b180-7d6c-41a9-88d1-7ac24135ace4",
   "metadata": {},
   "outputs": [],
   "source": [
    "def sigmat2func(omega, alpha, beta, rtm1, sigmat2m1):\n",
    "    return omega+alpha*rtm1+beta*sigmat2m1"
   ]
  },
  {
   "cell_type": "code",
   "execution_count": 33,
   "id": "b54010c7-f9f9-491a-b0ab-ada95d938792",
   "metadata": {},
   "outputs": [],
   "source": [
    "def mttp1func(sigmat2p1, rtp1, rcons):\n",
    "    thetatp1 = rcons/sigmat2p1 - 0.5\n",
    "    nom = np.exp(thetatp1*rtp1)\n",
    "    denom = np.exp(0.5 * (1+thetatp1)**2 * sigmat2p1 )\n",
    "    return nom/denom"
   ]
  },
  {
   "cell_type": "code",
   "execution_count": 34,
   "id": "0ade2673-beab-4080-8790-6635f7bfea81",
   "metadata": {},
   "outputs": [],
   "source": [
    "rtm1 =data[\"log_ret * 100\"][-1]"
   ]
  },
  {
   "cell_type": "code",
   "execution_count": 35,
   "id": "174b5d37-e9c9-4082-a1a5-962010c3d957",
   "metadata": {},
   "outputs": [],
   "source": [
    "omega = 0.02\n",
    "alpha = 0.1\n",
    "beta = 0.88"
   ]
  },
  {
   "cell_type": "code",
   "execution_count": 36,
   "id": "d3c9fddb-b644-4d07-9fb4-3d7e2d8a47c3",
   "metadata": {},
   "outputs": [],
   "source": [
    "sigmat2m1 = rtm1**2"
   ]
  },
  {
   "cell_type": "code",
   "execution_count": 37,
   "id": "cf4edbe6-efc7-4376-802e-c4ea3a5ee3a1",
   "metadata": {},
   "outputs": [],
   "source": [
    "np.random.seed(1)"
   ]
  },
  {
   "cell_type": "code",
   "execution_count": 38,
   "id": "7d97c29b-7b74-4f3a-b424-f5a16457a716",
   "metadata": {},
   "outputs": [],
   "source": [
    "#sigmat2 = sigmat2(omega, alpha, beta, rtm1, sigmat2m1)"
   ]
  },
  {
   "cell_type": "code",
   "execution_count": 39,
   "id": "f679b909-549a-41b2-b735-19a4e4e41e93",
   "metadata": {},
   "outputs": [],
   "source": [
    "#print(rt(sigmat2**0.5))"
   ]
  },
  {
   "cell_type": "code",
   "execution_count": 40,
   "id": "9f313e33-5a16-436d-9503-c287158cbae2",
   "metadata": {},
   "outputs": [],
   "source": [
    "omega = 0.02\n",
    "alpha = 0.1\n",
    "beta = 0.88\n",
    "rcons = 0.007"
   ]
  },
  {
   "cell_type": "code",
   "execution_count": 41,
   "id": "399d68f1-cc53-4cf7-897b-a22c55d88e7b",
   "metadata": {},
   "outputs": [],
   "source": [
    "T = 27\n",
    "t = 10"
   ]
  },
  {
   "cell_type": "code",
   "execution_count": 42,
   "id": "39db9dcd-b4a1-4675-888e-9ad6d846d3ac",
   "metadata": {},
   "outputs": [
    {
     "data": {
      "text/plain": [
       "0.005642127938093822"
      ]
     },
     "execution_count": 42,
     "metadata": {},
     "output_type": "execute_result"
    }
   ],
   "source": [
    "data[\"log_ret\"][1]"
   ]
  },
  {
   "cell_type": "code",
   "execution_count": 43,
   "id": "c09101cc-1b7c-415e-a6ad-5bbc38acdf18",
   "metadata": {},
   "outputs": [
    {
     "data": {
      "text/html": [
       "<div>\n",
       "<style scoped>\n",
       "    .dataframe tbody tr th:only-of-type {\n",
       "        vertical-align: middle;\n",
       "    }\n",
       "\n",
       "    .dataframe tbody tr th {\n",
       "        vertical-align: top;\n",
       "    }\n",
       "\n",
       "    .dataframe thead th {\n",
       "        text-align: right;\n",
       "    }\n",
       "</style>\n",
       "<table border=\"1\" class=\"dataframe\">\n",
       "  <thead>\n",
       "    <tr style=\"text-align: right;\">\n",
       "      <th></th>\n",
       "      <th>Open</th>\n",
       "      <th>High</th>\n",
       "      <th>Low</th>\n",
       "      <th>Close</th>\n",
       "      <th>Adj Close</th>\n",
       "      <th>Volume</th>\n",
       "      <th>pct_change</th>\n",
       "      <th>log_ret</th>\n",
       "    </tr>\n",
       "    <tr>\n",
       "      <th>Date</th>\n",
       "      <th></th>\n",
       "      <th></th>\n",
       "      <th></th>\n",
       "      <th></th>\n",
       "      <th></th>\n",
       "      <th></th>\n",
       "      <th></th>\n",
       "      <th></th>\n",
       "    </tr>\n",
       "  </thead>\n",
       "  <tbody>\n",
       "    <tr>\n",
       "      <th>2016-02-29</th>\n",
       "      <td>1947.130005</td>\n",
       "      <td>1958.270020</td>\n",
       "      <td>1931.810059</td>\n",
       "      <td>1932.229980</td>\n",
       "      <td>1932.229980</td>\n",
       "      <td>4588180000</td>\n",
       "      <td>NaN</td>\n",
       "      <td>NaN</td>\n",
       "    </tr>\n",
       "    <tr>\n",
       "      <th>2016-03-01</th>\n",
       "      <td>1937.089966</td>\n",
       "      <td>1978.349976</td>\n",
       "      <td>1937.089966</td>\n",
       "      <td>1978.349976</td>\n",
       "      <td>1978.349976</td>\n",
       "      <td>4819750000</td>\n",
       "      <td>-0.005156</td>\n",
       "      <td>-0.005170</td>\n",
       "    </tr>\n",
       "    <tr>\n",
       "      <th>2016-03-02</th>\n",
       "      <td>1976.599976</td>\n",
       "      <td>1986.510010</td>\n",
       "      <td>1968.800049</td>\n",
       "      <td>1986.449951</td>\n",
       "      <td>1986.449951</td>\n",
       "      <td>4666610000</td>\n",
       "      <td>0.020397</td>\n",
       "      <td>0.020191</td>\n",
       "    </tr>\n",
       "    <tr>\n",
       "      <th>2016-03-03</th>\n",
       "      <td>1985.599976</td>\n",
       "      <td>1993.689941</td>\n",
       "      <td>1977.369995</td>\n",
       "      <td>1993.400024</td>\n",
       "      <td>1993.400024</td>\n",
       "      <td>5081700000</td>\n",
       "      <td>0.004553</td>\n",
       "      <td>0.004543</td>\n",
       "    </tr>\n",
       "    <tr>\n",
       "      <th>2016-03-04</th>\n",
       "      <td>1994.010010</td>\n",
       "      <td>2009.130005</td>\n",
       "      <td>1986.770020</td>\n",
       "      <td>1999.989990</td>\n",
       "      <td>1999.989990</td>\n",
       "      <td>6049930000</td>\n",
       "      <td>0.004236</td>\n",
       "      <td>0.004227</td>\n",
       "    </tr>\n",
       "    <tr>\n",
       "      <th>...</th>\n",
       "      <td>...</td>\n",
       "      <td>...</td>\n",
       "      <td>...</td>\n",
       "      <td>...</td>\n",
       "      <td>...</td>\n",
       "      <td>...</td>\n",
       "      <td>...</td>\n",
       "      <td>...</td>\n",
       "    </tr>\n",
       "    <tr>\n",
       "      <th>2018-02-23</th>\n",
       "      <td>2715.800049</td>\n",
       "      <td>2747.760010</td>\n",
       "      <td>2713.739990</td>\n",
       "      <td>2747.300049</td>\n",
       "      <td>2747.300049</td>\n",
       "      <td>3189190000</td>\n",
       "      <td>0.001985</td>\n",
       "      <td>0.001983</td>\n",
       "    </tr>\n",
       "    <tr>\n",
       "      <th>2018-02-26</th>\n",
       "      <td>2757.370117</td>\n",
       "      <td>2780.639893</td>\n",
       "      <td>2753.780029</td>\n",
       "      <td>2779.600098</td>\n",
       "      <td>2779.600098</td>\n",
       "      <td>3424650000</td>\n",
       "      <td>0.015307</td>\n",
       "      <td>0.015191</td>\n",
       "    </tr>\n",
       "    <tr>\n",
       "      <th>2018-02-27</th>\n",
       "      <td>2780.449951</td>\n",
       "      <td>2789.149902</td>\n",
       "      <td>2744.219971</td>\n",
       "      <td>2744.280029</td>\n",
       "      <td>2744.280029</td>\n",
       "      <td>3745080000</td>\n",
       "      <td>0.008370</td>\n",
       "      <td>0.008335</td>\n",
       "    </tr>\n",
       "    <tr>\n",
       "      <th>2018-02-28</th>\n",
       "      <td>2753.780029</td>\n",
       "      <td>2761.520020</td>\n",
       "      <td>2713.540039</td>\n",
       "      <td>2713.830078</td>\n",
       "      <td>2713.830078</td>\n",
       "      <td>4230660000</td>\n",
       "      <td>-0.009592</td>\n",
       "      <td>-0.009638</td>\n",
       "    </tr>\n",
       "    <tr>\n",
       "      <th>2018-03-01</th>\n",
       "      <td>2715.219971</td>\n",
       "      <td>2730.889893</td>\n",
       "      <td>2659.649902</td>\n",
       "      <td>2677.669922</td>\n",
       "      <td>2677.669922</td>\n",
       "      <td>4503970000</td>\n",
       "      <td>-0.014003</td>\n",
       "      <td>-0.014102</td>\n",
       "    </tr>\n",
       "  </tbody>\n",
       "</table>\n",
       "<p>506 rows × 8 columns</p>\n",
       "</div>"
      ],
      "text/plain": [
       "                   Open         High          Low        Close    Adj Close  \\\n",
       "Date                                                                          \n",
       "2016-02-29  1947.130005  1958.270020  1931.810059  1932.229980  1932.229980   \n",
       "2016-03-01  1937.089966  1978.349976  1937.089966  1978.349976  1978.349976   \n",
       "2016-03-02  1976.599976  1986.510010  1968.800049  1986.449951  1986.449951   \n",
       "2016-03-03  1985.599976  1993.689941  1977.369995  1993.400024  1993.400024   \n",
       "2016-03-04  1994.010010  2009.130005  1986.770020  1999.989990  1999.989990   \n",
       "...                 ...          ...          ...          ...          ...   \n",
       "2018-02-23  2715.800049  2747.760010  2713.739990  2747.300049  2747.300049   \n",
       "2018-02-26  2757.370117  2780.639893  2753.780029  2779.600098  2779.600098   \n",
       "2018-02-27  2780.449951  2789.149902  2744.219971  2744.280029  2744.280029   \n",
       "2018-02-28  2753.780029  2761.520020  2713.540039  2713.830078  2713.830078   \n",
       "2018-03-01  2715.219971  2730.889893  2659.649902  2677.669922  2677.669922   \n",
       "\n",
       "                Volume  pct_change   log_ret  \n",
       "Date                                          \n",
       "2016-02-29  4588180000         NaN       NaN  \n",
       "2016-03-01  4819750000   -0.005156 -0.005170  \n",
       "2016-03-02  4666610000    0.020397  0.020191  \n",
       "2016-03-03  5081700000    0.004553  0.004543  \n",
       "2016-03-04  6049930000    0.004236  0.004227  \n",
       "...                ...         ...       ...  \n",
       "2018-02-23  3189190000    0.001985  0.001983  \n",
       "2018-02-26  3424650000    0.015307  0.015191  \n",
       "2018-02-27  3745080000    0.008370  0.008335  \n",
       "2018-02-28  4230660000   -0.009592 -0.009638  \n",
       "2018-03-01  4503970000   -0.014003 -0.014102  \n",
       "\n",
       "[506 rows x 8 columns]"
      ]
     },
     "execution_count": 43,
     "metadata": {},
     "output_type": "execute_result"
    }
   ],
   "source": [
    "data_option"
   ]
  },
  {
   "cell_type": "code",
   "execution_count": 46,
   "id": "6aa8f573-e2af-47a2-b955-0c668a14dcf2",
   "metadata": {},
   "outputs": [],
   "source": [
    "rtm1 =data_option[\"log_ret\"][1]\n",
    "sigmat2m1 = rtm1**2\n",
    "mysigmas = []\n",
    "myrs = []\n",
    "m_list = []\n",
    "for i in range(T-t+1):\n",
    "    sigmat2 = sigmat2func(omega, alpha, beta, rtm1, sigmat2m1)\n",
    "    rt = rtfunc(sigmat2)\n",
    "    mtm1t = mttp1func(sigmat2, rt, rcons)\n",
    "    mysigmas.append(sigmat2)\n",
    "    myrs.append(rt)\n",
    "    m_list.append(mtm1t)\n",
    "    rtm1 = rt\n",
    "    sigmat2m1 = sigmat2"
   ]
  },
  {
   "cell_type": "code",
   "execution_count": 47,
   "id": "ca92fa01-98bc-4c48-afcd-482ddba39b01",
   "metadata": {},
   "outputs": [
    {
     "data": {
      "text/plain": [
       "[<matplotlib.lines.Line2D at 0x2cdbdec5460>]"
      ]
     },
     "execution_count": 47,
     "metadata": {},
     "output_type": "execute_result"
    },
    {
     "data": {
      "image/png": "[encoded data removed]",
      "text/plain": [
       "<Figure size 432x288 with 1 Axes>"
      ]
     },
     "metadata": {
      "needs_background": "light"
     },
     "output_type": "display_data"
    }
   ],
   "source": [
    "mtT = np.array(m_list)\n",
    "plt.plot(m_list)"
   ]
  },
  {
   "cell_type": "code",
   "execution_count": 48,
   "id": "e3276fa9-21b3-44a8-97f1-c4da138a9d4f",
   "metadata": {},
   "outputs": [
    {
     "data": {
      "text/plain": [
       "1.079686780543411"
      ]
     },
     "execution_count": 48,
     "metadata": {},
     "output_type": "execute_result"
    }
   ],
   "source": [
    "np.product(mtT)"
   ]
  },
  {
   "cell_type": "code",
   "execution_count": 49,
   "id": "702e0094-3621-48d5-b520-770c6356bcbf",
   "metadata": {},
   "outputs": [],
   "source": [
    "SThat = 1985*np.exp(np.sum(myrs))"
   ]
  },
  {
   "cell_type": "code",
   "execution_count": 50,
   "id": "0e0d5be5-a2d2-4a6c-a762-876b61bc094b",
   "metadata": {},
   "outputs": [
    {
     "data": {
      "text/plain": [
       "898.2442100301379"
      ]
     },
     "execution_count": 50,
     "metadata": {},
     "output_type": "execute_result"
    }
   ],
   "source": [
    "SThat"
   ]
  },
  {
   "cell_type": "code",
   "execution_count": 51,
   "id": "0beb6073-272c-4e46-8477-e1110fafab6c",
   "metadata": {},
   "outputs": [],
   "source": [
    "def callP(mtT, SThat, K):\n",
    "    return np.product(mtT)*max([SThat-K,0])\n",
    "    "
   ]
  },
  {
   "cell_type": "code",
   "execution_count": 52,
   "id": "8db87712-e200-4938-9586-1a3de4e87b73",
   "metadata": {},
   "outputs": [],
   "source": [
    "callp = np.product(mtT)*SThat"
   ]
  },
  {
   "cell_type": "code",
   "execution_count": 53,
   "id": "266e9c58-799b-4cff-b74a-e1a46ae52275",
   "metadata": {},
   "outputs": [
    {
     "data": {
      "text/plain": [
       "969.822399269199"
      ]
     },
     "execution_count": 53,
     "metadata": {},
     "output_type": "execute_result"
    }
   ],
   "source": [
    "callp"
   ]
  },
  {
   "cell_type": "code",
   "execution_count": 54,
   "id": "3749017d-8a02-45b4-a9aa-17a92e69796f",
   "metadata": {},
   "outputs": [
    {
     "data": {
      "text/plain": [
       "1.0084203045584252"
      ]
     },
     "execution_count": 54,
     "metadata": {},
     "output_type": "execute_result"
    }
   ],
   "source": [
    "np.mean(m_list)"
   ]
  },
  {
   "cell_type": "code",
   "execution_count": 55,
   "id": "38ce55d5-997a-4fb9-bc7c-078f9155d84d",
   "metadata": {},
   "outputs": [
    {
     "data": {
      "text/plain": [
       "861.853721214858"
      ]
     },
     "execution_count": 55,
     "metadata": {},
     "output_type": "execute_result"
    }
   ],
   "source": [
    "callP(mtT,SThat,100)"
   ]
  },
  {
   "cell_type": "code",
   "execution_count": 56,
   "id": "8d2f2739-3770-4c51-9846-e44e8d4fa8ba",
   "metadata": {},
   "outputs": [],
   "source": [
    "def sim_option_price_sdf(series, S_t, K, horizon, par, draws, r, model):\n",
    "    if model == \"GARCH\":\n",
    "        omega = par[0]/100**2\n",
    "        alpha = par[1]\n",
    "        beta = par[2]\n",
    "    S_T = np.zeros(draws)\n",
    "    temp = np.zeros(draws)\n",
    "\n",
    "    #sigma2 = np.zeros(len(series))\n",
    "    #sigma2[0] = np.var(series)\n",
    "    #print(sigma2)\n",
    "    #for i in range(len(series)):\n",
    "    #    sigma2[i] = omega + alpha*series[i-1]**2 + beta*sigma2[i-1]\n",
    "    #print(sigma2)                                                    \n",
    "    for i in range(draws):\n",
    "        ret = np.zeros(horizon)\n",
    "        theta = np.zeros(horizon)\n",
    "        sdf = np.zeros(horizon)    \n",
    "        s = np.var(series) #sigma2[-1]\n",
    "        s =  omega + alpha*series[-1]**2 + beta*s\n",
    "            \n",
    "        for j in range(horizon):\n",
    "            theta[j] = r/s - 1/2\n",
    "            ret[j] = (s)**0.5 * np.random.normal(0,1,1)[0]\n",
    "            sdf[j] = np.exp(theta[j]*ret[j])/np.exp( (1+theta[j])**2 * s/2)\n",
    "            s = omega + alpha*ret[j]**2 + beta*s\n",
    "        \n",
    "        rsum = np.sum(ret)\n",
    "        S_T[i] = S_t * np.exp(rsum)\n",
    "        prodsdf = np.product(sdf)\n",
    "        temp[i] = prodsdf * (S_T[i]-K)*(S_T[i]>K)\n",
    "        #print(temp)\n",
    "    return np.mean(temp)#, np.var(temp)**0.5"
   ]
  },
  {
   "cell_type": "code",
   "execution_count": 57,
   "id": "97f8d3fa-5f40-405a-bd9d-0d685d6fe9d9",
   "metadata": {},
   "outputs": [
    {
     "data": {
      "text/plain": [
       "61.193542469340926"
      ]
     },
     "execution_count": 59,
     "metadata": {},
     "output_type": "execute_result"
    }
   ],
   "source": [
    "sim_option_price_sdf(series = data[\"log_ret\"], S_t = 1990.2, K = 1950, horizon = 21, par = np.array([0.02,0.1,0.87]), draws = 10000, r = 0.003/251, model = \"GARCH\" )"
   ]
  },
  {
   "cell_type": "code",
   "execution_count": null,
   "id": "38b4192d-e0a6-46d4-b5f5-7565f96b46d9",
   "metadata": {},
   "outputs": [
    {
     "data": {
      "text/plain": [
       "0.00014545561320281373"
      ]
     },
     "execution_count": 60,
     "metadata": {},
     "output_type": "execute_result"
    }
   ],
   "source": [
    "np.var(data[\"log_ret\"])"
   ]
  },
  {
   "cell_type": "code",
   "execution_count": 62,
   "id": "256580e7-cc16-4cd1-82df-8db26ab15298",
   "metadata": {},
   "outputs": [
    {
     "data": {
      "text/html": [
       "<div>\n",
       "<style scoped>\n",
       "    .dataframe tbody tr th:only-of-type {\n",
       "        vertical-align: middle;\n",
       "    }\n",
       "\n",
       "    .dataframe tbody tr th {\n",
       "        vertical-align: top;\n",
       "    }\n",
       "\n",
       "    .dataframe thead th {\n",
       "        text-align: right;\n",
       "    }\n",
       "</style>\n",
       "<table border=\"1\" class=\"dataframe\">\n",
       "  <thead>\n",
       "    <tr style=\"text-align: right;\">\n",
       "      <th></th>\n",
       "      <th>Open</th>\n",
       "      <th>High</th>\n",
       "      <th>Low</th>\n",
       "      <th>Close</th>\n",
       "      <th>Adj Close</th>\n",
       "      <th>Volume</th>\n",
       "      <th>pct_change</th>\n",
       "      <th>log_ret</th>\n",
       "    </tr>\n",
       "    <tr>\n",
       "      <th>Date</th>\n",
       "      <th></th>\n",
       "      <th></th>\n",
       "      <th></th>\n",
       "      <th></th>\n",
       "      <th></th>\n",
       "      <th></th>\n",
       "      <th></th>\n",
       "      <th></th>\n",
       "    </tr>\n",
       "  </thead>\n",
       "  <tbody>\n",
       "    <tr>\n",
       "      <th>2016-02-29</th>\n",
       "      <td>1947.130005</td>\n",
       "      <td>1958.270020</td>\n",
       "      <td>1931.810059</td>\n",
       "      <td>1932.229980</td>\n",
       "      <td>1932.229980</td>\n",
       "      <td>4588180000</td>\n",
       "      <td>NaN</td>\n",
       "      <td>NaN</td>\n",
       "    </tr>\n",
       "    <tr>\n",
       "      <th>2016-03-01</th>\n",
       "      <td>1937.089966</td>\n",
       "      <td>1978.349976</td>\n",
       "      <td>1937.089966</td>\n",
       "      <td>1978.349976</td>\n",
       "      <td>1978.349976</td>\n",
       "      <td>4819750000</td>\n",
       "      <td>-0.005156</td>\n",
       "      <td>-0.005170</td>\n",
       "    </tr>\n",
       "    <tr>\n",
       "      <th>2016-03-02</th>\n",
       "      <td>1976.599976</td>\n",
       "      <td>1986.510010</td>\n",
       "      <td>1968.800049</td>\n",
       "      <td>1986.449951</td>\n",
       "      <td>1986.449951</td>\n",
       "      <td>4666610000</td>\n",
       "      <td>0.020397</td>\n",
       "      <td>0.020191</td>\n",
       "    </tr>\n",
       "    <tr>\n",
       "      <th>2016-03-03</th>\n",
       "      <td>1985.599976</td>\n",
       "      <td>1993.689941</td>\n",
       "      <td>1977.369995</td>\n",
       "      <td>1993.400024</td>\n",
       "      <td>1993.400024</td>\n",
       "      <td>5081700000</td>\n",
       "      <td>0.004553</td>\n",
       "      <td>0.004543</td>\n",
       "    </tr>\n",
       "    <tr>\n",
       "      <th>2016-03-04</th>\n",
       "      <td>1994.010010</td>\n",
       "      <td>2009.130005</td>\n",
       "      <td>1986.770020</td>\n",
       "      <td>1999.989990</td>\n",
       "      <td>1999.989990</td>\n",
       "      <td>6049930000</td>\n",
       "      <td>0.004236</td>\n",
       "      <td>0.004227</td>\n",
       "    </tr>\n",
       "    <tr>\n",
       "      <th>...</th>\n",
       "      <td>...</td>\n",
       "      <td>...</td>\n",
       "      <td>...</td>\n",
       "      <td>...</td>\n",
       "      <td>...</td>\n",
       "      <td>...</td>\n",
       "      <td>...</td>\n",
       "      <td>...</td>\n",
       "    </tr>\n",
       "    <tr>\n",
       "      <th>2018-02-23</th>\n",
       "      <td>2715.800049</td>\n",
       "      <td>2747.760010</td>\n",
       "      <td>2713.739990</td>\n",
       "      <td>2747.300049</td>\n",
       "      <td>2747.300049</td>\n",
       "      <td>3189190000</td>\n",
       "      <td>0.001985</td>\n",
       "      <td>0.001983</td>\n",
       "    </tr>\n",
       "    <tr>\n",
       "      <th>2018-02-26</th>\n",
       "      <td>2757.370117</td>\n",
       "      <td>2780.639893</td>\n",
       "      <td>2753.780029</td>\n",
       "      <td>2779.600098</td>\n",
       "      <td>2779.600098</td>\n",
       "      <td>3424650000</td>\n",
       "      <td>0.015307</td>\n",
       "      <td>0.015191</td>\n",
       "    </tr>\n",
       "    <tr>\n",
       "      <th>2018-02-27</th>\n",
       "      <td>2780.449951</td>\n",
       "      <td>2789.149902</td>\n",
       "      <td>2744.219971</td>\n",
       "      <td>2744.280029</td>\n",
       "      <td>2744.280029</td>\n",
       "      <td>3745080000</td>\n",
       "      <td>0.008370</td>\n",
       "      <td>0.008335</td>\n",
       "    </tr>\n",
       "    <tr>\n",
       "      <th>2018-02-28</th>\n",
       "      <td>2753.780029</td>\n",
       "      <td>2761.520020</td>\n",
       "      <td>2713.540039</td>\n",
       "      <td>2713.830078</td>\n",
       "      <td>2713.830078</td>\n",
       "      <td>4230660000</td>\n",
       "      <td>-0.009592</td>\n",
       "      <td>-0.009638</td>\n",
       "    </tr>\n",
       "    <tr>\n",
       "      <th>2018-03-01</th>\n",
       "      <td>2715.219971</td>\n",
       "      <td>2730.889893</td>\n",
       "      <td>2659.649902</td>\n",
       "      <td>2677.669922</td>\n",
       "      <td>2677.669922</td>\n",
       "      <td>4503970000</td>\n",
       "      <td>-0.014003</td>\n",
       "      <td>-0.014102</td>\n",
       "    </tr>\n",
       "  </tbody>\n",
       "</table>\n",
       "<p>506 rows × 8 columns</p>\n",
       "</div>"
      ],
      "text/plain": [
       "                   Open         High          Low        Close    Adj Close  \\\n",
       "Date                                                                          \n",
       "2016-02-29  1947.130005  1958.270020  1931.810059  1932.229980  1932.229980   \n",
       "2016-03-01  1937.089966  1978.349976  1937.089966  1978.349976  1978.349976   \n",
       "2016-03-02  1976.599976  1986.510010  1968.800049  1986.449951  1986.449951   \n",
       "2016-03-03  1985.599976  1993.689941  1977.369995  1993.400024  1993.400024   \n",
       "2016-03-04  1994.010010  2009.130005  1986.770020  1999.989990  1999.989990   \n",
       "...                 ...          ...          ...          ...          ...   \n",
       "2018-02-23  2715.800049  2747.760010  2713.739990  2747.300049  2747.300049   \n",
       "2018-02-26  2757.370117  2780.639893  2753.780029  2779.600098  2779.600098   \n",
       "2018-02-27  2780.449951  2789.149902  2744.219971  2744.280029  2744.280029   \n",
       "2018-02-28  2753.780029  2761.520020  2713.540039  2713.830078  2713.830078   \n",
       "2018-03-01  2715.219971  2730.889893  2659.649902  2677.669922  2677.669922   \n",
       "\n",
       "                Volume  pct_change   log_ret  \n",
       "Date                                          \n",
       "2016-02-29  4588180000         NaN       NaN  \n",
       "2016-03-01  4819750000   -0.005156 -0.005170  \n",
       "2016-03-02  4666610000    0.020397  0.020191  \n",
       "2016-03-03  5081700000    0.004553  0.004543  \n",
       "2016-03-04  6049930000    0.004236  0.004227  \n",
       "...                ...         ...       ...  \n",
       "2018-02-23  3189190000    0.001985  0.001983  \n",
       "2018-02-26  3424650000    0.015307  0.015191  \n",
       "2018-02-27  3745080000    0.008370  0.008335  \n",
       "2018-02-28  4230660000   -0.009592 -0.009638  \n",
       "2018-03-01  4503970000   -0.014003 -0.014102  \n",
       "\n",
       "[506 rows x 8 columns]"
      ]
     },
     "execution_count": 62,
     "metadata": {},
     "output_type": "execute_result"
    }
   ],
   "source": [
    "data_option"
   ]
  },
  {
   "cell_type": "code",
   "execution_count": null,
   "id": "24c1d87b-e9e0-49f3-b04c-3fbac76c41a9",
   "metadata": {},
   "outputs": [],
   "source": []
  }
 ],
 "metadata": {
  "kernelspec": {
   "display_name": "Python 3 (ipykernel)",
   "language": "python",
   "name": "python3"
  },
  "language_info": {
   "codemirror_mode": {
    "name": "ipython",
    "version": 3
   },
   "file_extension": ".py",
   "mimetype": "text/x-python",
   "name": "python",
   "nbconvert_exporter": "python",
   "pygments_lexer": "ipython3",
   "version": "3.8.12"
  }
 },
 "nbformat": 4,
 "nbformat_minor": 5
}
